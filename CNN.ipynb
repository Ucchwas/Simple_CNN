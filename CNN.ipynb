{
  "nbformat": 4,
  "nbformat_minor": 0,
  "metadata": {
    "colab": {
      "provenance": [],
      "collapsed_sections": [],
      "authorship_tag": "ABX9TyM5yDQrlT1sh8JkGYdIQIyW",
      "include_colab_link": true
    },
    "kernelspec": {
      "name": "python3",
      "display_name": "Python 3"
    },
    "language_info": {
      "name": "python"
    },
    "accelerator": "GPU"
  },
  "cells": [
    {
      "cell_type": "markdown",
      "metadata": {
        "id": "view-in-github",
        "colab_type": "text"
      },
      "source": [
        "<a href=\"https://colab.research.google.com/github/Ucchwas/Simple_CNN/blob/main/CNN.ipynb\" target=\"_parent\"><img src=\"https://colab.research.google.com/assets/colab-badge.svg\" alt=\"Open In Colab\"/></a>"
      ]
    },
    {
      "cell_type": "code",
      "execution_count": 17,
      "metadata": {
        "colab": {
          "base_uri": "https://localhost:8080/"
        },
        "id": "Jc2ofOV4T88H",
        "outputId": "2e6dd231-2d43-421c-e606-882faa19899a"
      },
      "outputs": [
        {
          "output_type": "stream",
          "name": "stdout",
          "text": [
            "Found GPU at: /device:GPU:0\n"
          ]
        }
      ],
      "source": [
        "import tensorflow as tf\n",
        "device_name = tf.test.gpu_device_name()\n",
        "if device_name != '/device:GPU:0':\n",
        "  raise SystemError('GPU device not found')\n",
        "  \n",
        "print('Found GPU at: {}'.format(device_name))"
      ]
    },
    {
      "cell_type": "code",
      "source": [
        "from __future__ import print_function\n",
        "import numpy as np\n",
        "import matplotlib.pyplot as plt\n",
        "\n",
        "\n",
        "import keras\n",
        "from keras.models import Sequential\n",
        "\n",
        "from tensorflow.keras.utils import to_categorical\n",
        "\n",
        "from keras.layers import Dense, Conv2D, MaxPooling2D, Dropout, Flatten"
      ],
      "metadata": {
        "id": "d5oICV6gVJJD"
      },
      "execution_count": 18,
      "outputs": []
    },
    {
      "cell_type": "code",
      "source": [
        "from keras.datasets import cifar10\n",
        "(train_images, train_labels), (test_images, test_labels) = cifar10.load_data()"
      ],
      "metadata": {
        "id": "0qJP944AVKGL"
      },
      "execution_count": 19,
      "outputs": []
    },
    {
      "cell_type": "code",
      "source": [
        "print('Training data shape : ', train_images.shape, train_labels.shape)\n",
        "print('Testing data shape : ', test_images.shape, test_labels.shape)"
      ],
      "metadata": {
        "colab": {
          "base_uri": "https://localhost:8080/"
        },
        "id": "2_aWbYw5Fu4r",
        "outputId": "d927c729-8393-4c42-e287-047dc956213f"
      },
      "execution_count": 20,
      "outputs": [
        {
          "output_type": "stream",
          "name": "stdout",
          "text": [
            "Training data shape :  (50000, 32, 32, 3) (50000, 1)\n",
            "Testing data shape :  (10000, 32, 32, 3) (10000, 1)\n"
          ]
        }
      ]
    },
    {
      "cell_type": "code",
      "source": [
        "classes = np.unique(train_labels)\n",
        "classes"
      ],
      "metadata": {
        "colab": {
          "base_uri": "https://localhost:8080/"
        },
        "id": "VRtQybTAGH5i",
        "outputId": "a6bf8bd7-2f0b-4a37-b2f4-68d6a70ebb30"
      },
      "execution_count": 21,
      "outputs": [
        {
          "output_type": "execute_result",
          "data": {
            "text/plain": [
              "array([0, 1, 2, 3, 4, 5, 6, 7, 8, 9], dtype=uint8)"
            ]
          },
          "metadata": {},
          "execution_count": 21
        }
      ]
    },
    {
      "cell_type": "code",
      "source": [
        "nClasses = len(classes)\n",
        "nClasses"
      ],
      "metadata": {
        "colab": {
          "base_uri": "https://localhost:8080/"
        },
        "id": "nRjuBTIpHCPi",
        "outputId": "0d31f6dd-967a-42b2-8f8e-03d2dca2d81b"
      },
      "execution_count": 22,
      "outputs": [
        {
          "output_type": "execute_result",
          "data": {
            "text/plain": [
              "10"
            ]
          },
          "metadata": {},
          "execution_count": 22
        }
      ]
    },
    {
      "cell_type": "code",
      "source": [
        "plt.figure(figsize=[4,2])\n",
        "\n",
        "plt.subplot(111)\n",
        "plt.imshow(train_images[0,:,:], cmap='gray')"
      ],
      "metadata": {
        "colab": {
          "base_uri": "https://localhost:8080/",
          "height": 176
        },
        "id": "pMB0Cbs4HJsy",
        "outputId": "b43731a4-cd36-43d6-dbac-1884f5def834"
      },
      "execution_count": 23,
      "outputs": [
        {
          "output_type": "execute_result",
          "data": {
            "text/plain": [
              "<matplotlib.image.AxesImage at 0x7f95da2fff50>"
            ]
          },
          "metadata": {},
          "execution_count": 23
        },
        {
          "output_type": "display_data",
          "data": {
            "text/plain": [
              "<Figure size 288x144 with 1 Axes>"
            ],
            "image/png": "[encoded data removed]"
          },
          "metadata": {
            "needs_background": "light"
          }
        }
      ]
    },
    {
      "cell_type": "code",
      "source": [
        "plt.subplot(122)\n",
        "plt.imshow(test_images[0,:,:], cmap='gray')"
      ],
      "metadata": {
        "colab": {
          "base_uri": "https://localhost:8080/",
          "height": 219
        },
        "id": "1--WEI9ZIXbI",
        "outputId": "b3cd4f8e-8fd6-4933-a9dc-3fa26ec2132a"
      },
      "execution_count": 24,
      "outputs": [
        {
          "output_type": "execute_result",
          "data": {
            "text/plain": [
              "<matplotlib.image.AxesImage at 0x7f95da2a9ad0>"
            ]
          },
          "metadata": {},
          "execution_count": 24
        },
        {
          "output_type": "display_data",
          "data": {
            "text/plain": [
              "<Figure size 432x288 with 1 Axes>"
            ],
            "image/png": "[encoded data removed]"
          },
          "metadata": {
            "needs_background": "light"
          }
        }
      ]
    },
    {
      "cell_type": "code",
      "source": [
        "nRows,nCols,nDims= train_images.shape[1:]\n",
        "train_data= train_images.reshape(train_images.shape[0],nRows,nCols,nDims)\n",
        "test_data= test_images.reshape(test_images.shape[0],nRows,nCols,nDims)"
      ],
      "metadata": {
        "id": "vEQSzL96JU34"
      },
      "execution_count": 25,
      "outputs": []
    },
    {
      "cell_type": "code",
      "source": [
        "train_data= train_data.astype('float32') / 255\n",
        "test_data= test_data.astype('float32') / 255"
      ],
      "metadata": {
        "id": "uuGEey3LMYRJ"
      },
      "execution_count": 26,
      "outputs": []
    },
    {
      "cell_type": "code",
      "source": [
        "train_labels_vector= to_categorical(train_labels) #converts to vectors\n",
        "test_labels_vector= to_categorical(test_labels)"
      ],
      "metadata": {
        "id": "iieU1jFUNCvP"
      },
      "execution_count": 27,
      "outputs": []
    },
    {
      "cell_type": "code",
      "source": [
        "def createModel():\n",
        "  model= Sequential()\n",
        "  model.add(Conv2D(32, (3,3), padding='same', activation='relu', input_shape=(nRows, nCols, nDims)))\n",
        "  model.add(Conv2D(32,3,3, activation='relu'))\n",
        "  model.add(MaxPooling2D(pool_size=(2,2)))\n",
        "  model.add(Dropout(0.25))\n",
        "\n",
        "  model.add(Conv2D(64, (3, 3), padding='same', activation='relu'))\n",
        "  model.add(Conv2D(64, (3, 3), activation='relu'))\n",
        "  model.add(MaxPooling2D(pool_size=(2, 2)))\n",
        "  model.add(Dropout(0.25))\n",
        "\n",
        "  model.add(Flatten())\n",
        "  model.add(Dense(512, activation='relu'))\n",
        "  model.add(Dropout(0.5))\n",
        "  model.add(Dense(nClasses, activation='softmax'))\n",
        "\n",
        "  return model"
      ],
      "metadata": {
        "id": "XvaygREUQ3wB"
      },
      "execution_count": 28,
      "outputs": []
    },
    {
      "cell_type": "code",
      "source": [
        "model= createModel()\n",
        "model.compile(optimizer='rmsprop', loss='categorical_crossentropy', metrics=['accuracy'])\n",
        "\n",
        "model.summary()"
      ],
      "metadata": {
        "colab": {
          "base_uri": "https://localhost:8080/"
        },
        "id": "3kOzsdIZRxff",
        "outputId": "4525b9a0-c078-4808-b1d2-18df31c61403"
      },
      "execution_count": 29,
      "outputs": [
        {
          "output_type": "stream",
          "name": "stdout",
          "text": [
            "Model: \"sequential_1\"\n",
            "_________________________________________________________________\n",
            " Layer (type)                Output Shape              Param #   \n",
            "=================================================================\n",
            " conv2d_4 (Conv2D)           (None, 32, 32, 32)        896       \n",
            "                                                                 \n",
            " conv2d_5 (Conv2D)           (None, 10, 10, 32)        9248      \n",
            "                                                                 \n",
            " max_pooling2d_2 (MaxPooling  (None, 5, 5, 32)         0         \n",
            " 2D)                                                             \n",
            "                                                                 \n",
            " dropout_3 (Dropout)         (None, 5, 5, 32)          0         \n",
            "                                                                 \n",
            " conv2d_6 (Conv2D)           (None, 5, 5, 64)          18496     \n",
            "                                                                 \n",
            " conv2d_7 (Conv2D)           (None, 3, 3, 64)          36928     \n",
            "                                                                 \n",
            " max_pooling2d_3 (MaxPooling  (None, 1, 1, 64)         0         \n",
            " 2D)                                                             \n",
            "                                                                 \n",
            " dropout_4 (Dropout)         (None, 1, 1, 64)          0         \n",
            "                                                                 \n",
            " flatten_1 (Flatten)         (None, 64)                0         \n",
            "                                                                 \n",
            " dense_2 (Dense)             (None, 512)               33280     \n",
            "                                                                 \n",
            " dropout_5 (Dropout)         (None, 512)               0         \n",
            "                                                                 \n",
            " dense_3 (Dense)             (None, 10)                5130      \n",
            "                                                                 \n",
            "=================================================================\n",
            "Total params: 103,978\n",
            "Trainable params: 103,978\n",
            "Non-trainable params: 0\n",
            "_________________________________________________________________\n"
          ]
        }
      ]
    },
    {
      "cell_type": "code",
      "source": [
        "history= model.fit(train_data, train_labels_vector, batch_size=128, epochs=50, verbose=1, validation_data=(test_data, test_labels_vector))\n",
        "model.evaluate(test_data, test_labels_vector)"
      ],
      "metadata": {
        "colab": {
          "base_uri": "https://localhost:8080/"
        },
        "id": "hxQ19hmsUIVl",
        "outputId": "7c696c64-f2ed-4bb2-a8c7-96ba74fcd7a3"
      },
      "execution_count": 30,
      "outputs": [
        {
          "output_type": "stream",
          "name": "stdout",
          "text": [
            "Epoch 1/50\n",
            "391/391 [==============================] - 4s 8ms/step - loss: 1.9325 - accuracy: 0.2747 - val_loss: 1.6842 - val_accuracy: 0.3878\n",
            "Epoch 2/50\n",
            "391/391 [==============================] - 3s 7ms/step - loss: 1.5892 - accuracy: 0.4195 - val_loss: 1.4414 - val_accuracy: 0.4749\n",
            "Epoch 3/50\n",
            "391/391 [==============================] - 3s 7ms/step - loss: 1.4445 - accuracy: 0.4748 - val_loss: 1.2904 - val_accuracy: 0.5401\n",
            "Epoch 4/50\n",
            "391/391 [==============================] - 3s 7ms/step - loss: 1.3497 - accuracy: 0.5149 - val_loss: 1.2461 - val_accuracy: 0.5601\n",
            "Epoch 5/50\n",
            "391/391 [==============================] - 3s 7ms/step - loss: 1.2758 - accuracy: 0.5436 - val_loss: 1.4351 - val_accuracy: 0.5001\n",
            "Epoch 6/50\n",
            "391/391 [==============================] - 3s 7ms/step - loss: 1.2147 - accuracy: 0.5683 - val_loss: 1.0736 - val_accuracy: 0.6177\n",
            "Epoch 7/50\n",
            "391/391 [==============================] - 3s 7ms/step - loss: 1.1698 - accuracy: 0.5858 - val_loss: 1.0427 - val_accuracy: 0.6311\n",
            "Epoch 8/50\n",
            "391/391 [==============================] - 3s 7ms/step - loss: 1.1250 - accuracy: 0.6017 - val_loss: 1.0006 - val_accuracy: 0.6454\n",
            "Epoch 9/50\n",
            "391/391 [==============================] - 3s 7ms/step - loss: 1.0968 - accuracy: 0.6155 - val_loss: 0.9874 - val_accuracy: 0.6538\n",
            "Epoch 10/50\n",
            "391/391 [==============================] - 3s 8ms/step - loss: 1.0626 - accuracy: 0.6272 - val_loss: 0.9376 - val_accuracy: 0.6715\n",
            "Epoch 11/50\n",
            "391/391 [==============================] - 4s 9ms/step - loss: 1.0374 - accuracy: 0.6331 - val_loss: 0.9653 - val_accuracy: 0.6621\n",
            "Epoch 12/50\n",
            "391/391 [==============================] - 3s 7ms/step - loss: 1.0150 - accuracy: 0.6433 - val_loss: 0.9668 - val_accuracy: 0.6611\n",
            "Epoch 13/50\n",
            "391/391 [==============================] - 3s 7ms/step - loss: 0.9915 - accuracy: 0.6528 - val_loss: 0.9326 - val_accuracy: 0.6707\n",
            "Epoch 14/50\n",
            "391/391 [==============================] - 3s 7ms/step - loss: 0.9839 - accuracy: 0.6535 - val_loss: 0.9078 - val_accuracy: 0.6793\n",
            "Epoch 15/50\n",
            "391/391 [==============================] - 3s 7ms/step - loss: 0.9632 - accuracy: 0.6599 - val_loss: 0.8958 - val_accuracy: 0.6824\n",
            "Epoch 16/50\n",
            "391/391 [==============================] - 3s 7ms/step - loss: 0.9512 - accuracy: 0.6661 - val_loss: 0.8754 - val_accuracy: 0.6934\n",
            "Epoch 17/50\n",
            "391/391 [==============================] - 3s 7ms/step - loss: 0.9375 - accuracy: 0.6736 - val_loss: 0.9516 - val_accuracy: 0.6699\n",
            "Epoch 18/50\n",
            "391/391 [==============================] - 3s 7ms/step - loss: 0.9285 - accuracy: 0.6770 - val_loss: 0.9330 - val_accuracy: 0.6753\n",
            "Epoch 19/50\n",
            "391/391 [==============================] - 3s 7ms/step - loss: 0.9190 - accuracy: 0.6774 - val_loss: 0.8760 - val_accuracy: 0.6932\n",
            "Epoch 20/50\n",
            "391/391 [==============================] - 3s 7ms/step - loss: 0.9125 - accuracy: 0.6809 - val_loss: 0.8752 - val_accuracy: 0.6967\n",
            "Epoch 21/50\n",
            "391/391 [==============================] - 3s 8ms/step - loss: 0.9053 - accuracy: 0.6857 - val_loss: 0.9121 - val_accuracy: 0.6866\n",
            "Epoch 22/50\n",
            "391/391 [==============================] - 3s 8ms/step - loss: 0.8959 - accuracy: 0.6887 - val_loss: 0.9470 - val_accuracy: 0.6728\n",
            "Epoch 23/50\n",
            "391/391 [==============================] - 3s 8ms/step - loss: 0.8820 - accuracy: 0.6915 - val_loss: 0.8587 - val_accuracy: 0.7025\n",
            "Epoch 24/50\n",
            "391/391 [==============================] - 3s 8ms/step - loss: 0.8809 - accuracy: 0.6946 - val_loss: 0.8537 - val_accuracy: 0.7057\n",
            "Epoch 25/50\n",
            "391/391 [==============================] - 3s 8ms/step - loss: 0.8725 - accuracy: 0.6960 - val_loss: 0.8512 - val_accuracy: 0.7023\n",
            "Epoch 26/50\n",
            "391/391 [==============================] - 3s 8ms/step - loss: 0.8727 - accuracy: 0.6994 - val_loss: 0.8402 - val_accuracy: 0.7055\n",
            "Epoch 27/50\n",
            "391/391 [==============================] - 3s 7ms/step - loss: 0.8698 - accuracy: 0.6984 - val_loss: 0.8389 - val_accuracy: 0.7062\n",
            "Epoch 28/50\n",
            "391/391 [==============================] - 3s 7ms/step - loss: 0.8638 - accuracy: 0.6977 - val_loss: 0.8553 - val_accuracy: 0.6956\n",
            "Epoch 29/50\n",
            "391/391 [==============================] - 3s 7ms/step - loss: 0.8595 - accuracy: 0.7005 - val_loss: 0.8460 - val_accuracy: 0.7091\n",
            "Epoch 30/50\n",
            "391/391 [==============================] - 3s 7ms/step - loss: 0.8479 - accuracy: 0.7086 - val_loss: 0.8285 - val_accuracy: 0.7151\n",
            "Epoch 31/50\n",
            "391/391 [==============================] - 3s 7ms/step - loss: 0.8491 - accuracy: 0.7076 - val_loss: 0.9016 - val_accuracy: 0.6930\n",
            "Epoch 32/50\n",
            "391/391 [==============================] - 3s 7ms/step - loss: 0.8435 - accuracy: 0.7070 - val_loss: 0.8519 - val_accuracy: 0.7098\n",
            "Epoch 33/50\n",
            "391/391 [==============================] - 3s 8ms/step - loss: 0.8477 - accuracy: 0.7079 - val_loss: 0.9423 - val_accuracy: 0.6771\n",
            "Epoch 34/50\n",
            "391/391 [==============================] - 3s 8ms/step - loss: 0.8434 - accuracy: 0.7078 - val_loss: 0.8215 - val_accuracy: 0.7164\n",
            "Epoch 35/50\n",
            "391/391 [==============================] - 3s 8ms/step - loss: 0.8381 - accuracy: 0.7085 - val_loss: 0.8474 - val_accuracy: 0.7128\n",
            "Epoch 36/50\n",
            "391/391 [==============================] - 3s 7ms/step - loss: 0.8389 - accuracy: 0.7079 - val_loss: 0.9013 - val_accuracy: 0.6889\n",
            "Epoch 37/50\n",
            "391/391 [==============================] - 3s 8ms/step - loss: 0.8410 - accuracy: 0.7097 - val_loss: 0.9213 - val_accuracy: 0.6843\n",
            "Epoch 38/50\n",
            "391/391 [==============================] - 4s 9ms/step - loss: 0.8407 - accuracy: 0.7099 - val_loss: 0.8376 - val_accuracy: 0.7151\n",
            "Epoch 39/50\n",
            "391/391 [==============================] - 3s 8ms/step - loss: 0.8374 - accuracy: 0.7100 - val_loss: 0.8726 - val_accuracy: 0.7045\n",
            "Epoch 40/50\n",
            "391/391 [==============================] - 3s 8ms/step - loss: 0.8289 - accuracy: 0.7138 - val_loss: 0.9312 - val_accuracy: 0.6888\n",
            "Epoch 41/50\n",
            "391/391 [==============================] - 3s 8ms/step - loss: 0.8282 - accuracy: 0.7155 - val_loss: 0.8296 - val_accuracy: 0.7168\n",
            "Epoch 42/50\n",
            "391/391 [==============================] - 3s 8ms/step - loss: 0.8263 - accuracy: 0.7147 - val_loss: 0.9102 - val_accuracy: 0.6885\n",
            "Epoch 43/50\n",
            "391/391 [==============================] - 3s 8ms/step - loss: 0.8268 - accuracy: 0.7132 - val_loss: 0.8347 - val_accuracy: 0.7118\n",
            "Epoch 44/50\n",
            "391/391 [==============================] - 3s 8ms/step - loss: 0.8295 - accuracy: 0.7135 - val_loss: 0.8764 - val_accuracy: 0.7053\n",
            "Epoch 45/50\n",
            "391/391 [==============================] - 3s 8ms/step - loss: 0.8227 - accuracy: 0.7165 - val_loss: 0.8389 - val_accuracy: 0.7142\n",
            "Epoch 46/50\n",
            "391/391 [==============================] - 3s 8ms/step - loss: 0.8273 - accuracy: 0.7180 - val_loss: 0.8719 - val_accuracy: 0.6990\n",
            "Epoch 47/50\n",
            "391/391 [==============================] - 3s 8ms/step - loss: 0.8259 - accuracy: 0.7147 - val_loss: 0.8244 - val_accuracy: 0.7158\n",
            "Epoch 48/50\n",
            "391/391 [==============================] - 3s 8ms/step - loss: 0.8203 - accuracy: 0.7180 - val_loss: 0.8836 - val_accuracy: 0.6987\n",
            "Epoch 49/50\n",
            "391/391 [==============================] - 3s 8ms/step - loss: 0.8221 - accuracy: 0.7166 - val_loss: 0.8869 - val_accuracy: 0.7051\n",
            "Epoch 50/50\n",
            "391/391 [==============================] - 3s 8ms/step - loss: 0.8319 - accuracy: 0.7159 - val_loss: 0.8709 - val_accuracy: 0.7020\n",
            "313/313 [==============================] - 1s 4ms/step - loss: 0.8709 - accuracy: 0.7020\n"
          ]
        },
        {
          "output_type": "execute_result",
          "data": {
            "text/plain": [
              "[0.870887279510498, 0.7020000219345093]"
            ]
          },
          "metadata": {},
          "execution_count": 30
        }
      ]
    }
  ]
}